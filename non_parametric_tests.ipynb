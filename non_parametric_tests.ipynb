{
  "nbformat": 4,
  "nbformat_minor": 0,
  "metadata": {
    "colab": {
      "provenance": [],
      "authorship_tag": "ABX9TyO+eEjdiLXdckE3D30/YRhB",
      "include_colab_link": true
    },
    "kernelspec": {
      "name": "python3",
      "display_name": "Python 3"
    },
    "language_info": {
      "name": "python"
    }
  },
  "cells": [
    {
      "cell_type": "markdown",
      "metadata": {
        "id": "view-in-github",
        "colab_type": "text"
      },
      "source": [
        "<a href=\"https://colab.research.google.com/github/Lupin3-droid/Lupin3-droid/blob/main/non_parametric_tests.ipynb\" target=\"_parent\"><img src=\"https://colab.research.google.com/assets/colab-badge.svg\" alt=\"Open In Colab\"/></a>"
      ]
    },
    {
      "cell_type": "code",
      "execution_count": null,
      "metadata": {
        "colab": {
          "base_uri": "https://localhost:8080/"
        },
        "id": "LDSk4z-2rilw",
        "outputId": "6825ee8f-776f-4894-d9ed-b35a55faac03"
      },
      "outputs": [
        {
          "output_type": "stream",
          "name": "stdout",
          "text": [
            "data1: mean=50.176 stdv=4.865\n",
            "data2: mean=51.109 stdv=4.671\n"
          ]
        }
      ],
      "source": [
        "#generating random numbers.\n",
        "from numpy.random import seed\n",
        "from numpy.random import randn\n",
        "from numpy import mean\n",
        "from numpy import std\n",
        "# seed the random number generator\n",
        "seed(4)\n",
        "# generate two sets of univariate observations\n",
        "data1 = 5 * randn(100) + 50\n",
        "data2 = 5 * randn(100) + 51\n",
        "# summarize\n",
        "print('data1: mean=%.3f stdv=%.3f' % (mean(data1), std(data1)))\n",
        "print('data2: mean=%.3f stdv=%.3f' % (mean(data2), std(data2)))"
      ]
    },
    {
      "cell_type": "code",
      "source": [
        "#Mann-Whitney U-Test/wilcoxon-mann whitney rank test.\n",
        "from scipy.stats import mannwhitneyu\n",
        "# seed the random number generator\n",
        "seed(4)\n",
        "# generate two independent samples\n",
        "data1 = 5 * randn(100) + 50\n",
        "data2 = 5 * randn(100) + 51\n",
        "# compare samples\n",
        "stat, p = mannwhitneyu(data1, data2)\n",
        "print('Statistics=%.3f, p=%.3f' % (stat, p))\n",
        "# interpret\n",
        "alpha = 0.05\n",
        "if p > alpha:\n",
        "\tprint('Same distribution (fail to reject H0)')\n",
        "else:\n",
        "\tprint('Different distribution (reject H0)')"
      ],
      "metadata": {
        "colab": {
          "base_uri": "https://localhost:8080/"
        },
        "id": "TdwmrEcSr9da",
        "outputId": "1c0abe47-a42d-489a-8348-30fb2cf1aab3"
      },
      "execution_count": null,
      "outputs": [
        {
          "output_type": "stream",
          "name": "stdout",
          "text": [
            "Statistics=4531.000, p=0.252\n",
            "Same distribution (fail to reject H0)\n"
          ]
        }
      ]
    },
    {
      "cell_type": "code",
      "source": [
        "#Wilcoxon Sign Rank test.\n",
        "from scipy.stats import wilcoxon\n",
        "# seed the random number generator\n",
        "seed(4)\n",
        "# generate two independent samples\n",
        "data1 = 5 * randn(100) + 50\n",
        "data2 = 5 * randn(100) + 51\n",
        "# compare samples\n",
        "stat, p = wilcoxon(data1, data2)\n",
        "print('Statistics=%.3f, p=%.3f' % (stat, p))\n",
        "# interpret\n",
        "alpha = 0.05\n",
        "if p > alpha:\n",
        "\tprint('Same distribution (fail to reject H0)')\n",
        "else:\n",
        "\tprint('Different distribution (reject H0)')"
      ],
      "metadata": {
        "colab": {
          "base_uri": "https://localhost:8080/"
        },
        "id": "KGw6birPsx7G",
        "outputId": "fbbb9efc-5461-4290-8c79-87b346fce54d"
      },
      "execution_count": null,
      "outputs": [
        {
          "output_type": "stream",
          "name": "stdout",
          "text": [
            "Statistics=2124.000, p=0.168\n",
            "Same distribution (fail to reject H0)\n"
          ]
        }
      ]
    },
    {
      "cell_type": "code",
      "source": [
        "#Kruskal-Wallis test.\n",
        "from numpy.random import seed\n",
        "from numpy.random import randn\n",
        "from scipy.stats import kruskal\n",
        "# seed the random number generator\n",
        "seed(4)\n",
        "# generate three independent samples\n",
        "data1 = 5 * randn(100) + 50\n",
        "data2 = 5 * randn(100) + 51\n",
        "data3 = 5 * randn(100) + 52\n",
        "# compare samples\n",
        "stat, p = kruskal(data1, data2, data3)\n",
        "print('Statistics=%.3f, p=%.3f' % (stat, p))\n",
        "# interpret\n",
        "alpha = 0.05\n",
        "if p > alpha:\n",
        "\tprint('Same distributions (fail to reject H0)')\n",
        "else:\n",
        "\tprint('Different distributions (reject H0)')"
      ],
      "metadata": {
        "colab": {
          "base_uri": "https://localhost:8080/"
        },
        "id": "aIKMgmdetgaa",
        "outputId": "35638735-e5fc-4cb9-bbd9-9ca6bfd95ad5"
      },
      "execution_count": null,
      "outputs": [
        {
          "output_type": "stream",
          "name": "stdout",
          "text": [
            "Statistics=12.294, p=0.002\n",
            "Different distributions (reject H0)\n"
          ]
        }
      ]
    },
    {
      "cell_type": "code",
      "source": [
        "#test for randomness based on median.\n",
        "from statsmodels.sandbox.stats.runs import runstest_1samp\n",
        "from numpy.random import seed\n",
        "from numpy.random import randn\n",
        "# seed the random number generator\n",
        "seed(4)\n",
        "#create dataset\n",
        "data = 5 * randn(100) + 52\n",
        "alpha = 0.05\n",
        "#Perform Runs test\n",
        "test=runstest_1samp(data, correction=False)\n",
        "\n",
        "#this will print the value and the p-value.\n",
        "print(test[1])\n",
        "if test[1] > alpha:\n",
        "\tprint('the data is produced in a random manner(fail to reject H0)')\n",
        "else:\n",
        "\tprint('data is not produced in a random manner (reject H0)')\n"
      ],
      "metadata": {
        "colab": {
          "base_uri": "https://localhost:8080/"
        },
        "id": "10nUAjsKuaO_",
        "outputId": "b682ea30-cad4-4393-f526-39908b2cab4a"
      },
      "execution_count": null,
      "outputs": [
        {
          "output_type": "stream",
          "name": "stdout",
          "text": [
            "0.07528063097161039\n",
            "the data is produced in a random manner(fail to reject H0)\n"
          ]
        }
      ]
    },
    {
      "cell_type": "code",
      "source": [
        "#test for randomness based on runs using python.\n",
        "import scipy.stats as stats\n",
        "\n",
        "def runs_test(sequence):\n",
        "    n = len(sequence)\n",
        "    n1, n0 = sequence.count(0), sequence.count(1)\n",
        "\n",
        "    if n1 == 0 or n0 == 0:\n",
        "        return \"Sequence is not random: Only one type of digit present.\"\n",
        "\n",
        "    # Count runs\n",
        "    runs = sum(1 for i in range(1, n) if sequence[i] != sequence[i-1]) + 1\n",
        "\n",
        "    # Expected runs and variance\n",
        "    expected_runs = (2 * n1 * n0) / n + 1\n",
        "    variance_runs = (2 * n1 * n0 * ((2 * n1 * n0) - n1 - n0)) / (n**2 * (n - 1))\n",
        "\n",
        "    # Z-score and p-value\n",
        "    z = (runs - expected_runs) / (variance_runs**0.5)\n",
        "    p_value = 2 * (1 - stats.norm.cdf(abs(z)))\n",
        "\n",
        "    return {\n",
        "        \"runs\": runs,\n",
        "        \"expected_runs\": expected_runs,\n",
        "        \"variance_runs\": variance_runs,\n",
        "        \"z_score\": z,\n",
        "        \"p_value\": p_value,\n",
        "        \"is_random\": p_value > 0.05  # True if p-value > 0.05\n",
        "    }\n",
        "\n",
        "# Example usage\n",
        "sequence = [1,1,1,0,1,0,0,0,1,0,1,0,1,1,1,0,0,0,1,0,0,1,0,0,1,1,1,0,1,0,1,1,0,0,0,1,0,1,0,0,0,1,0,1]  # Replace with your sequence\n",
        "result = runs_test(sequence)\n",
        "\n",
        "print(\"Runs Test Results:\")\n",
        "for k, v in result.items():\n",
        "    print(f\"{k}: {v}\")\n"
      ],
      "metadata": {
        "colab": {
          "base_uri": "https://localhost:8080/"
        },
        "id": "BJk6rhqHx_l6",
        "outputId": "4ce34b0c-9908-4c87-9663-f064ac2b23c9"
      },
      "execution_count": null,
      "outputs": [
        {
          "output_type": "stream",
          "name": "stdout",
          "text": [
            "Runs Test Results:\n",
            "runs: 27\n",
            "expected_runs: 22.954545454545453\n",
            "variance_runs: 10.698779550259466\n",
            "z_score: 1.2368020783245357\n",
            "p_value: 0.21616057031920777\n",
            "is_random: True\n"
          ]
        }
      ]
    },
    {
      "cell_type": "code",
      "source": [
        "#Wilcoxon sign Rank test.\n",
        "\"\"\"Researchers want to know if a new fuel treatment leads to a change in the average mpg of a certain car.\n",
        "To test this, they measure the mpg of 12 cars with and without the fuel treatment.\"\"\"\n",
        "import scipy.stats as stats\n",
        "group1 = [20, 23, 21, 25, 18, 17, 18, 24, 20, 24, 23, 19]\n",
        "group2 = [24, 25, 21, 22, 23, 18, 17, 28, 24, 27, 21, 23]\n",
        "#perform the Wilcoxon-Signed Rank Test\n",
        "test=stats.wilcoxon(group1, group2)\n",
        "\n",
        "print(test[1])\n",
        "if test[1] > alpha:\n",
        "\tprint('The mpg is equal between the two groups(fail to reject H0)')\n",
        "else:\n",
        "\tprint('The mpg is not equal between the two groups (reject H0)')\n"
      ],
      "metadata": {
        "colab": {
          "base_uri": "https://localhost:8080/"
        },
        "id": "tvoEmMM34WC8",
        "outputId": "6fb005f4-3c00-4540-9d4b-f4e11ca02afa"
      },
      "execution_count": null,
      "outputs": [
        {
          "output_type": "stream",
          "name": "stdout",
          "text": [
            "0.044065400736826854\n",
            "The mpg is not equal between the two groups (reject H0)\n"
          ]
        }
      ]
    },
    {
      "cell_type": "code",
      "source": [
        "#Two sample wald wolfwitz test.\n",
        "import numpy as np\n",
        "from scipy.stats import norm\n",
        "\n",
        "def wald_wolfowitz_test(sample1, sample2):\n",
        "    # Combine samples and assign labels\n",
        "    combined = np.concatenate([sample1, sample2])\n",
        "    labels = [1] * len(sample1) + [0] * len(sample2)\n",
        "\n",
        "    # Sort combined array and reorder labels\n",
        "    sorted_labels = [label for _, label in sorted(zip(combined, labels))]\n",
        "\n",
        "    # Count runs\n",
        "    runs = sum(sorted_labels[i] != sorted_labels[i - 1] for i in range(1, len(sorted_labels))) + 1\n",
        "\n",
        "    # Sizes of the two samples\n",
        "    n1, n2 = len(sample1), len(sample2)\n",
        "\n",
        "    # Expected runs and variance\n",
        "    expected_runs = (2 * n1 * n2) / (n1 + n2) + 1\n",
        "    variance_runs = (2 * n1 * n2 * (2 * n1 * n2 - n1 - n2)) / ((n1 + n2)**2 * (n1 + n2 - 1))\n",
        "\n",
        "    # Z-score and p-value\n",
        "    z = (runs - expected_runs) / (variance_runs**0.5)\n",
        "    p_value = 2 * (1 - norm.cdf(abs(z)))\n",
        "\n",
        "    return {\n",
        "        \"runs\": runs,\n",
        "        \"expected_runs\": expected_runs,\n",
        "        \"variance_runs\": variance_runs,\n",
        "        \"z_score\": z,\n",
        "        \"p_value\": p_value,\n",
        "        \"is_same_distribution\": p_value > 0.05\n",
        "    }\n",
        "\n",
        "# Example usage\n",
        "sample1 =[82, 15, 4, 95, 36, 32, 29, 18, 95, 14, 87, 95, 70, 12, 76, 55, 5, 4, 12, 28]\n",
        "sample2 = [30, 65, 78, 4, 72, 26, 92, 84, 90, 70, 54, 29, 58, 76, 36, 1, 98, 21, 90, 55]\n",
        "\n",
        "\n",
        "result = wald_wolfowitz_test(sample1, sample2)\n",
        "\n",
        "print(\"Wald-Wolfowitz Test Results:\")\n",
        "for k, v in result.items():\n",
        "    print(f\"{k}: {v}\")\n"
      ],
      "metadata": {
        "colab": {
          "base_uri": "https://localhost:8080/"
        },
        "id": "N7g9T_n_8qsF",
        "outputId": "b4c78a3e-473c-4553-cfe2-3122961eb9be"
      },
      "execution_count": null,
      "outputs": [
        {
          "output_type": "stream",
          "name": "stdout",
          "text": [
            "Wald-Wolfowitz Test Results:\n",
            "runs: 23\n",
            "expected_runs: 21.0\n",
            "variance_runs: 9.743589743589743\n",
            "z_score: 0.6407232755171874\n",
            "p_value: 0.5217024890869293\n",
            "is_same_distribution: True\n"
          ]
        }
      ]
    },
    {
      "source": [
        "#one sample sign test.\n",
        "from scipy.stats import binom\n",
        "import numpy as np # Import numpy\n",
        "\n",
        "def one_sample_sign_test(sample, hypothesized_median):\n",
        "    # Convert the sample list to a NumPy array\n",
        "    sample = np.array(sample)\n",
        "    # Calculate differences from the hypothesized median\n",
        "    differences = sample - hypothesized_median\n",
        "\n",
        "    # Count positive and negative signs (ignoring zero differences)\n",
        "    positive = np.sum(differences > 0)\n",
        "    negative = np.sum(differences < 0)\n",
        "\n",
        "    # Perform a binomial test (one-sided)\n",
        "    n = positive + negative  # Number of non-zero differences\n",
        "    if n == 0:\n",
        "        return \"All differences are zero, cannot perform the test.\"\n",
        "\n",
        "    # Calculate the p-value using binomial PMF (two-sided test)\n",
        "    p = 0.5  # The probability of success (null hypothesis)\n",
        "    p_value = 2 * min(binom.cdf(positive, n, p), 1 - binom.cdf(positive - 1, n, p))\n",
        "\n",
        "    return {\n",
        "        \"positive\": positive,\n",
        "        \"negative\": negative,\n",
        "        \"p_value\": p_value,\n",
        "        \"is_median_equal\": p_value > 0.05  # True if p-value > 0.05\n",
        "    }\n",
        "\n",
        "# Example usage\n",
        "sample = [30, 65, 78, 4, 72, 26, 92, 84, 90, 70, 54, 29, 58, 76, 36, 1, 98, 21, 90, 55] # Sample data\n",
        "hypothesized_median = 70      # Hypothesized median value\n",
        "\n",
        "result = one_sample_sign_test(sample, hypothesized_median)\n",
        "\n",
        "print(\"One-Sample Sign Test Results:\")\n",
        "for k, v in result.items():\n",
        "    print(f\"{k}: {v}\")"
      ],
      "cell_type": "code",
      "metadata": {
        "colab": {
          "base_uri": "https://localhost:8080/"
        },
        "id": "NtKLCj7wFznW",
        "outputId": "2569e484-4948-496f-fecb-a454b749e240"
      },
      "execution_count": null,
      "outputs": [
        {
          "output_type": "stream",
          "name": "stdout",
          "text": [
            "One-Sample Sign Test Results:\n",
            "positive: 8\n",
            "negative: 11\n",
            "p_value: 0.6476058959960938\n",
            "is_median_equal: True\n"
          ]
        }
      ]
    },
    {
      "cell_type": "code",
      "source": [
        "from scipy.stats import binom\n",
        "import numpy as np\n",
        "\n",
        "def paired_sample_sign_test(sample1, sample2):\n",
        "    # Compute the differences between the paired samples\n",
        "    differences = np.array(sample1) - np.array(sample2)\n",
        "\n",
        "    # Count positive and negative differences\n",
        "    positive = np.sum(differences > 0)\n",
        "    negative = np.sum(differences < 0)\n",
        "\n",
        "    # Number of non-zero differences\n",
        "    non_zero_differences = positive + negative\n",
        "\n",
        "    # Calculate the p-value using binomial PMF (two-sided test)\n",
        "    p = 0.5  # The probability of success (null hypothesis)\n",
        "    p_value = 2 * min(binom.cdf(positive, non_zero_differences, p), 1 - binom.cdf(positive - 1, non_zero_differences, p))\n",
        "    # Return the results\n",
        "    return {\n",
        "        \"positive_differences\": positive,\n",
        "        \"negative_differences\": negative,\n",
        "        \"p_value\": p_value,\n",
        "        \"is_significant\": p_value < 0.05  # Test at 5% significance level\n",
        "    }\n",
        "\n",
        "# Example usage\n",
        "sample1 = [52, 93, 15, 72, 61, 21, 83, 87, 75, 75, 88, 24, 3, 22, 53, 2, 88, 30, 38, 2, 64, 60, 21, 33]\n",
        "sample2= [76, 58, 22, 89, 49, 91, 59, 42, 92, 60, 80, 15, 62, 62, 47, 62, 51, 55, 64, 3, 51, 7, 21, 73]\n",
        "\n",
        "\n",
        "result = paired_sample_sign_test(sample1, sample2)\n",
        "\n",
        "print(\"Paired Sample Sign Test Results:\")\n",
        "for k, v in result.items():\n",
        "    print(f\"{k}: {v}\")\n"
      ],
      "metadata": {
        "colab": {
          "base_uri": "https://localhost:8080/"
        },
        "id": "6A88loQVF6iw",
        "outputId": "0dae52c5-0fda-4fbe-82cc-f4eb6b33c7a2"
      },
      "execution_count": null,
      "outputs": [
        {
          "output_type": "stream",
          "name": "stdout",
          "text": [
            "Paired Sample Sign Test Results:\n",
            "positive_differences: 11\n",
            "negative_differences: 12\n",
            "p_value: 1.0\n",
            "is_significant: False\n"
          ]
        }
      ]
    },
    {
      "cell_type": "code",
      "source": [
        "#spearmans rank test.\n",
        "from scipy.stats import spearmanr\n",
        "import numpy as np\n",
        "\n",
        "# Example data\n",
        "x = [52, 93, 15, 72, 61, 21, 83, 87, 75, 75, 88, 24, 3, 22, 53, 2, 88, 30, 38, 2, 64, 60, 21, 33]\n",
        "y = [76, 58, 22, 89, 49, 91, 59, 42, 92, 60, 80, 15, 62, 62, 47, 62, 51, 55, 64, 3, 51, 7, 21, 73]\n",
        "\n",
        "# Perform Spearman's rank correlation test\n",
        "correlation, p_value = spearmanr(x, y)\n",
        "\n",
        "# Output results\n",
        "print(f\"Spearman's rank correlation coefficient: {correlation}\")\n",
        "print(f\"P-value: {p_value}\")\n",
        "alpha=0.05\n",
        "if p_value > alpha:\n",
        "\tprint('The data is not correlated(fail to reject H0)')\n",
        "else:\n",
        "\tprint('The data is correlated (reject H0)')\n",
        "3"
      ],
      "metadata": {
        "colab": {
          "base_uri": "https://localhost:8080/"
        },
        "id": "cDeZUakxJdWa",
        "outputId": "c0e48d0a-937e-4a09-d919-4468eb201cce"
      },
      "execution_count": null,
      "outputs": [
        {
          "output_type": "stream",
          "name": "stdout",
          "text": [
            "Spearman's rank correlation coefficient: 0.15966020853591623\n",
            "P-value: 0.456140331434012\n",
            "The data is not correlated(fail to reject H0)\n"
          ]
        }
      ]
    }
  ]
}