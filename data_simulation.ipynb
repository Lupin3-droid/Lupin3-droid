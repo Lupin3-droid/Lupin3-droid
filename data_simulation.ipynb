{
  "nbformat": 4,
  "nbformat_minor": 0,
  "metadata": {
    "colab": {
      "provenance": [],
      "authorship_tag": "ABX9TyOUitugMVlyl8EZAUlHIgUT",
      "include_colab_link": true
    },
    "kernelspec": {
      "name": "python3",
      "display_name": "Python 3"
    },
    "language_info": {
      "name": "python"
    }
  },
  "cells": [
    {
      "cell_type": "markdown",
      "metadata": {
        "id": "view-in-github",
        "colab_type": "text"
      },
      "source": [
        "<a href=\"https://colab.research.google.com/github/Lupin3-droid/Lupin3-droid/blob/main/data_simulation.ipynb\" target=\"_parent\"><img src=\"https://colab.research.google.com/assets/colab-badge.svg\" alt=\"Open In Colab\"/></a>"
      ]
    },
    {
      "cell_type": "code",
      "execution_count": null,
      "metadata": {
        "colab": {
          "base_uri": "https://localhost:8080/",
          "height": 173
        },
        "id": "kDhnQsWDOP06",
        "outputId": "c266cdcd-61c2-4687-dbb8-44a373b2b34d"
      },
      "outputs": [
        {
          "output_type": "stream",
          "name": "stdout",
          "text": [
            "       CostIndex  Waterquantity  BilledAmount  Maintenance\n",
            "count      80.00          80.00         80.00        80.00\n",
            "mean   183844.34       66249.49     159730.69         0.65\n",
            "std     78382.91       24009.35      41018.96         0.48\n",
            "min     59505.00       30404.00      59821.00         0.00\n",
            "25%    121149.13       48917.00     136750.27         0.00\n",
            "50%    176788.57       67642.86     159082.67         1.00\n",
            "75%    247708.81       81827.31     180950.87         1.00\n",
            "max    351359.47      128753.60     274269.10         1.00\n"
          ]
        },
        {
          "output_type": "display_data",
          "data": {
            "text/plain": [
              "<IPython.core.display.Javascript object>"
            ],
            "application/javascript": [
              "\n",
              "    async function download(id, filename, size) {\n",
              "      if (!google.colab.kernel.accessAllowed) {\n",
              "        return;\n",
              "      }\n",
              "      const div = document.createElement('div');\n",
              "      const label = document.createElement('label');\n",
              "      label.textContent = `Downloading \"${filename}\": `;\n",
              "      div.appendChild(label);\n",
              "      const progress = document.createElement('progress');\n",
              "      progress.max = size;\n",
              "      div.appendChild(progress);\n",
              "      document.body.appendChild(div);\n",
              "\n",
              "      const buffers = [];\n",
              "      let downloaded = 0;\n",
              "\n",
              "      const channel = await google.colab.kernel.comms.open(id);\n",
              "      // Send a message to notify the kernel that we're ready.\n",
              "      channel.send({})\n",
              "\n",
              "      for await (const message of channel.messages) {\n",
              "        // Send a message to notify the kernel that we're ready.\n",
              "        channel.send({})\n",
              "        if (message.buffers) {\n",
              "          for (const buffer of message.buffers) {\n",
              "            buffers.push(buffer);\n",
              "            downloaded += buffer.byteLength;\n",
              "            progress.value = downloaded;\n",
              "          }\n",
              "        }\n",
              "      }\n",
              "      const blob = new Blob(buffers, {type: 'application/binary'});\n",
              "      const a = document.createElement('a');\n",
              "      a.href = window.URL.createObjectURL(blob);\n",
              "      a.download = filename;\n",
              "      div.appendChild(a);\n",
              "      a.click();\n",
              "      div.remove();\n",
              "    }\n",
              "  "
            ]
          },
          "metadata": {}
        },
        {
          "output_type": "display_data",
          "data": {
            "text/plain": [
              "<IPython.core.display.Javascript object>"
            ],
            "application/javascript": [
              "download(\"download_19a1ddcc-7f3b-488f-8319-96d4073eaffc\", \"simulated_data.csv\", 4461)"
            ]
          },
          "metadata": {}
        }
      ],
      "source": [
        "import numpy as np\n",
        "import pandas as pd\n",
        "\n",
        "# Set seed for reproducibility\n",
        "np.random.seed(123)\n",
        "\n",
        "# Generate CostIndex using a normal distribution\n",
        "CostIndex = np.random.normal(loc=180591, scale=71380.6, size=80)\n",
        "CostIndex = np.clip(CostIndex, 59505, 503055)  # Ensure values fall within the given range\n",
        "\n",
        "# Generate Waterquantity using a normal distribution\n",
        "Waterquantity = np.random.normal(loc=63796, scale=25000, size=80)\n",
        "Waterquantity = np.clip(Waterquantity, 30404, 157659)  # Ensure within range\n",
        "\n",
        "# Generate BilledAmount using a normal distribution\n",
        "BilledAmount = np.random.normal(loc=164234, scale=50000, size=80)\n",
        "BilledAmount = np.clip(BilledAmount, 59821, 371132)  # Ensure within range\n",
        "\n",
        "# Generate Maintenance (Binary variable with mean ~0.6625)\n",
        "Maintenance = np.random.choice([0, 1], size=80, p=[0.3375, 0.6625])\n",
        "\n",
        "# Create the final DataFrame\n",
        "dataset = pd.DataFrame({\n",
        "    'CostIndex': CostIndex,\n",
        "    'Waterquantity': Waterquantity,\n",
        "    'BilledAmount': BilledAmount,\n",
        "    'Maintenance': Maintenance\n",
        "})\n",
        "\n",
        "# Display descriptive statistics\n",
        "print(round(dataset.describe(),2))\n",
        "\n",
        "# Save to CSV if needed\n",
        "dataset.to_csv(\"simulated_data.csv\", index=False)\n",
        "\n",
        "#code to download the dataset.\n",
        "from google.colab import files\n",
        "files.download('simulated_data.csv')\n"
      ]
    }
  ]
}