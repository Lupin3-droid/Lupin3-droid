{
  "nbformat": 4,
  "nbformat_minor": 0,
  "metadata": {
    "colab": {
      "provenance": [],
      "authorship_tag": "ABX9TyOdxpsLfJZJ+VvaiL7jOUoZ",
      "include_colab_link": true
    },
    "kernelspec": {
      "name": "python3",
      "display_name": "Python 3"
    },
    "language_info": {
      "name": "python"
    }
  },
  "cells": [
    {
      "cell_type": "markdown",
      "metadata": {
        "id": "view-in-github",
        "colab_type": "text"
      },
      "source": [
        "<a href=\"https://colab.research.google.com/github/Lupin3-droid/Lupin3-droid/blob/main/starting_point.ipynb\" target=\"_parent\"><img src=\"https://colab.research.google.com/assets/colab-badge.svg\" alt=\"Open In Colab\"/></a>"
      ]
    },
    {
      "cell_type": "code",
      "execution_count": null,
      "metadata": {
        "colab": {
          "base_uri": "https://localhost:8080/"
        },
        "id": "Jw5TSVPEtShH",
        "outputId": "1a41f453-59ce-4641-9074-a7a15ce8d9e6"
      },
      "outputs": [
        {
          "name": "stdout",
          "output_type": "stream",
          "text": [
            "this is: karu data science\n",
            "the sum is: 40\n",
            "enter num1 5\n",
            "enter num2 8\n"
          ]
        },
        {
          "output_type": "execute_result",
          "data": {
            "text/plain": [
              "13.0"
            ]
          },
          "metadata": {},
          "execution_count": 9
        }
      ],
      "source": [
        "name=\"karu data science\"\n",
        "print(\"this is:\",name)\n",
        "\n",
        "num1=10\n",
        "num2=30\n",
        "sum=num1+num2\n",
        "print(\"the sum is:\",sum)\n",
        "\n",
        "def sumfunct(num1,num2):\n",
        "    #local var\n",
        "    num1=float(input(\"enter num1 \"))\n",
        "    num2=float(input(\"enter num2 \"))\n",
        "\n",
        "    return num1+num2\n",
        "\n",
        "sumfunct(num1,num2)"
      ]
    },
    {
      "cell_type": "code",
      "source": [
        "\n",
        "name= input(\"please enter your names: \")\n",
        "height=float(input(\"enter height in meters \"))\n",
        "weight=float(input(\"enter weight in kilograms \"))\n",
        "BMI= weight/(height*height)\n",
        "print(\"your bmi is:\",BMI)\n",
        "\n",
        "if(BMI<=18.5):\n",
        "     print(\"You are Underweight\")\n",
        "elif (BMI<=25.0):\n",
        "    print(\" your weight is normal\")\n",
        "elif(BMI<=30.0):\n",
        "    print(\"you are overweight\")\n",
        "else:\n",
        "    print(\" obese\")"
      ],
      "metadata": {
        "colab": {
          "base_uri": "https://localhost:8080/"
        },
        "id": "O-9jHzgx2tQO",
        "outputId": "c69927b0-a7c3-4abe-9e29-0712e8668031"
      },
      "execution_count": null,
      "outputs": [
        {
          "output_type": "stream",
          "name": "stdout",
          "text": [
            "please enter your names: komora\n",
            "enter height in meters 1.7\n",
            "enter weight in kilograms 70\n",
            "your bmi is: 24.221453287197235\n",
            " your weight is normal\n"
          ]
        }
      ]
    },
    {
      "cell_type": "code",
      "source": [
        "import pandas as pd\n",
        "datame={\"cars\":[\"v\",\"d\",\"f\"],\n",
        "        \"passings\":[3,2,4]\n",
        "}\n",
        "myarr=pd.DataFrame(datame)\n",
        "print(myarr)"
      ],
      "metadata": {
        "colab": {
          "base_uri": "https://localhost:8080/"
        },
        "id": "gHgusXjAAyw9",
        "outputId": "0957cf79-4cc1-4b75-c558-10e6e9283b0a"
      },
      "execution_count": null,
      "outputs": [
        {
          "output_type": "stream",
          "name": "stdout",
          "text": [
            "  cars  passings\n",
            "0    v         3\n",
            "1    d         2\n",
            "2    f         4\n"
          ]
        }
      ]
    },
    {
      "cell_type": "code",
      "source": [
        "import pandas as pd\n",
        "a=[1,2,3]\n",
        "k=pd.Series(a,index=[\"w\",\"e\",\"r\"])\n",
        "print(k)\n",
        "print(k[1])\n",
        "print(k[\"w\"])"
      ],
      "metadata": {
        "colab": {
          "base_uri": "https://localhost:8080/"
        },
        "id": "44g75wwnDReN",
        "outputId": "b2c53498-ece3-44f1-97df-9e33b8e575bb"
      },
      "execution_count": null,
      "outputs": [
        {
          "output_type": "stream",
          "name": "stdout",
          "text": [
            "w    1\n",
            "e    2\n",
            "r    3\n",
            "dtype: int64\n",
            "2\n",
            "1\n"
          ]
        }
      ]
    },
    {
      "cell_type": "code",
      "source": [
        "import pandas as pd\n",
        "calories={\"days\":[1,2,3,4],\n",
        "          \"amount\":[420,430,980,554]\n",
        "          }\n",
        "myvar=pd.DataFrame(calories)\n",
        "print(myvar)"
      ],
      "metadata": {
        "colab": {
          "base_uri": "https://localhost:8080/"
        },
        "id": "7ns9-281ISRa",
        "outputId": "4972bfc4-ef33-4f1a-d352-b4bd56f4cc96"
      },
      "execution_count": null,
      "outputs": [
        {
          "output_type": "stream",
          "name": "stdout",
          "text": [
            "   days  amount\n",
            "0     1     420\n",
            "1     2     430\n",
            "2     3     980\n",
            "3     4     554\n"
          ]
        }
      ]
    }
  ]
}